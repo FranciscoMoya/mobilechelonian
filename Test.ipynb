{
 "metadata": {
  "name": "",
  "signature": "sha256:ddd573a17045f6c542ecc1bfea28324ac722ef9d66e026a6f1a3e2fc3aab8ce5"
 },
 "nbformat": 3,
 "nbformat_minor": 0,
 "worksheets": [
  {
   "cells": [
    {
     "cell_type": "code",
     "collapsed": false,
     "input": [
      "from NewTurtle import Turtle\n",
      "t = Turtle()\n",
      "t.speed(5)\n",
      "colours=[\"red\",\"blue\",\"yellow\",\"brown\",\"black\",\"purple\",\"green\"]\n",
      "t.penup(); t.left(90); t.forward(200);t.right(90);t.pendown()\n",
      "for i in range (0,18):\n",
      "    t.pencolor(colours[i%7])\n",
      "    t.right(20)\n",
      "    t.forward(50)\n",
      "\n",
      "t.right(180)\n",
      "t.home()\n",
      "#print(t.points)"
     ],
     "language": "python",
     "metadata": {},
     "outputs": [],
     "prompt_number": 1
    },
    {
     "cell_type": "code",
     "collapsed": false,
     "input": [
      "t.forward(100)"
     ],
     "language": "python",
     "metadata": {},
     "outputs": [],
     "prompt_number": 2
    }
   ],
   "metadata": {}
  }
 ]
}