{
 "metadata": {
  "kernelspec": {
   "codemirror_mode": {
    "name": "ipython",
    "version": 3
   },
   "display_name": "IPython (Python 3)",
   "language": "python",
   "name": "python3"
  },
  "name": "",
  "signature": "sha256:6986cc358be838072e377a7a9d1d7e74b0dcd7d9ddfbb19bdbc33bf8e8125e94"
 },
 "nbformat": 3,
 "nbformat_minor": 0,
 "worksheets": [
  {
   "cells": [
    {
     "cell_type": "code",
     "collapsed": false,
     "input": [
      "from mobilechelonian import prepare_js\n",
      "prepare_js()"
     ],
     "language": "python",
     "metadata": {},
     "outputs": [],
     "prompt_number": 1
    },
    {
     "cell_type": "code",
     "collapsed": false,
     "input": [
      "from mobilechelonian import Turtle\n",
      "t = Turtle()\n",
      "t.speed(5)\n",
      "colours=[\"red\",\"blue\",\"yellow\",\"brown\",\"black\",\"purple\",\"green\"]\n",
      "t.penup(); t.left(90); t.forward(200);t.right(90);t.pendown()\n",
      "for i in range (0,18):\n",
      "    t.pencolor(colours[i%7])\n",
      "    t.right(20)\n",
      "    t.forward(50)\n",
      "\n",
      "t.right(180)\n",
      "t.home()"
     ],
     "language": "python",
     "metadata": {},
     "outputs": [],
     "prompt_number": 2
    },
    {
     "cell_type": "code",
     "collapsed": false,
     "input": [
      "t.circle(60)"
     ],
     "language": "python",
     "metadata": {},
     "outputs": [],
     "prompt_number": 3
    }
   ],
   "metadata": {}
  }
 ]
}