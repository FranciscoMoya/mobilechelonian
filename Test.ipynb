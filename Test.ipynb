{
 "metadata": {
  "kernelspec": {
   "codemirror_mode": {
    "name": "ipython",
    "version": 3
   },
   "display_name": "IPython (Python 3)",
   "language": "python",
   "name": "python3"
  },
  "name": "",
  "signature": "sha256:91c2a08fe2a3a6fe5c5fade1a8497ad53afd46ec5d686e84b5cee6eb9f0e8bd4"
 },
 "nbformat": 3,
 "nbformat_minor": 0,
 "worksheets": [
  {
   "cells": [
    {
     "cell_type": "code",
     "collapsed": false,
     "input": [
      "from mobilechelonian import Turtle\n",
      "t = Turtle()\n",
      "t.speed(5)\n",
      "colours=[\"red\",\"blue\",\"yellow\",\"brown\",\"black\",\"purple\",\"green\"]\n",
      "t.penup(); t.left(90); t.forward(200);t.right(90);t.pendown()\n",
      "for i in range (0,18):\n",
      "    t.pencolor(colours[i%7])\n",
      "    t.right(20)\n",
      "    t.forward(50)\n",
      "\n",
      "t.right(180)\n",
      "t.home()"
     ],
     "language": "python",
     "metadata": {},
     "outputs": []
    },
    {
     "cell_type": "code",
     "collapsed": false,
     "input": [
      "t.circle(60)"
     ],
     "language": "python",
     "metadata": {},
     "outputs": []
    }
   ],
   "metadata": {}
  }
 ]
}