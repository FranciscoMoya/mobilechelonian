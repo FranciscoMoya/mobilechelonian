{
 "metadata": {
  "name": "",
  "signature": "sha256:1d55e44a343165d5415ed1aa235c736ecfe676b66583853ccfd1591d0f8bf7d5"
 },
 "nbformat": 3,
 "nbformat_minor": 0,
 "worksheets": [
  {
   "cells": [
    {
     "cell_type": "code",
     "collapsed": false,
     "input": [
      "from NewTurtle import prepare_js\n",
      "prepare_js()"
     ],
     "language": "python",
     "metadata": {},
     "outputs": [
      {
       "javascript": [
        "IPython.load_extensions('chelonianmobilejs/turtlewidget');"
       ],
       "metadata": {},
       "output_type": "display_data",
       "text": [
        "<IPython.core.display.Javascript object>"
       ]
      }
     ],
     "prompt_number": 1
    },
    {
     "cell_type": "code",
     "collapsed": false,
     "input": [
      "from NewTurtle import Turtle\n",
      "t = Turtle()\n",
      "t.speed(5)\n",
      "colours=[\"red\",\"blue\",\"yellow\",\"brown\",\"black\",\"purple\",\"green\"]\n",
      "t.penup(); t.left(90); t.forward(200);t.right(90);t.pendown()\n",
      "for i in range (0,18):\n",
      "    t.pencolor(colours[i%7])\n",
      "    t.right(20)\n",
      "    t.forward(50)\n",
      "\n",
      "t.right(180)\n",
      "t.home()\n",
      "#print(t.points)"
     ],
     "language": "python",
     "metadata": {},
     "outputs": [],
     "prompt_number": 2
    },
    {
     "cell_type": "code",
     "collapsed": false,
     "input": [
      "t.forward(100)"
     ],
     "language": "python",
     "metadata": {},
     "outputs": [],
     "prompt_number": 3
    }
   ],
   "metadata": {}
  }
 ]
}