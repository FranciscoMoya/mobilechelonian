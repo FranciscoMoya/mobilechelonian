{
 "metadata": {
  "name": "",
  "signature": "sha256:2a19e89154b1b863d5766996f56c53701652c2eb96c8a0dfa5cb49bd8d8a827f"
 },
 "nbformat": 3,
 "nbformat_minor": 0,
 "worksheets": [
  {
   "cells": [
    {
     "cell_type": "code",
     "collapsed": false,
     "input": [
      "from NewTurtle import Turtle\n",
      "t = Turtle();\n",
      "t.speed(1)\n",
      "colours=[\"red\",\"blue\",\"yellow\",\"brown\",\"black\",\"purple\",\"green\"]\n",
      "t.penup(); t.left(90); t.forward(200);t.right(90);t.pendown();\n",
      "for i in range (0,18):\n",
      "    t.pencolor(colours[i%7]);\n",
      "    t.right(20);\n",
      "    t.forward(50);"
     ],
     "language": "python",
     "metadata": {},
     "outputs": [
      {
       "javascript": [
        "IPython.do_turtle(\"1,black,200,200,0,1,0,black,200,200,-90,1,0,black,200.0,20,0,1,0,black,200.0,20,90,1,1,red,200.0,20,20,1,1,red,247.0,37.1,0,1,1,blue,247.0,37.1,20,1,1,blue,285.3,69.2,0,1,1,yellow,285.3,69.2,20,1,1,yellow,310.3,112.5,0,1,1,brown,310.3,112.5,20,1,1,brown,319.0,161.7,0,1,1,black,319.0,161.7,20,1,1,black,310.3,210.89999999999998,0,1,1,purple,310.3,210.89999999999998,20,1,1,purple,285.3,254.2,0,1,1,green,285.3,254.2,20,1,1,green,247.0,286.3,0,1,1,red,247.0,286.3,20,1,1,red,200.0,303.40000000000003,0,1,1,blue,200.0,303.40000000000003,20,1,1,blue,150.0,303.40000000000003,0,1,1,yellow,150.0,303.40000000000003,20,1,1,yellow,103.0,286.3,0,1,1,brown,103.0,286.3,20,1,1,brown,64.7,254.20000000000002,0,1,1,black,64.7,254.20000000000002,20,1,1,black,39.7,210.90000000000003,0,1,1,purple,39.7,210.90000000000003,20,1,1,purple,31.000000000000004,161.70000000000005,0,1,1,green,31.000000000000004,161.70000000000005,20,1,1,green,39.7,112.50000000000004,0,1,1,red,39.7,112.50000000000004,20,1,1,red,64.7,69.20000000000005,0,1,1,blue,64.7,69.20000000000005,20,1,1,blue,103.0,37.100000000000044,0,1,1,yellow,103.0,37.100000000000044,20,1,1,yellow,150.0,20.000000000000043,0,1,1,brown,150.0,20.000000000000043,20,1,1,brown,200.0,20.000000000000043,0,1,\", element);"
       ],
       "metadata": {},
       "output_type": "display_data"
      }
     ],
     "prompt_number": 19
    },
    {
     "cell_type": "code",
     "collapsed": false,
     "input": [],
     "language": "python",
     "metadata": {},
     "outputs": []
    }
   ],
   "metadata": {}
  }
 ]
}